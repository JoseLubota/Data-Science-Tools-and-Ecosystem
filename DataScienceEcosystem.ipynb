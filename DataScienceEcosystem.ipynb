{
 "cells": [
  {
   "cell_type": "markdown",
   "id": "97a6b827-2851-461e-bef6-af95d94c8594",
   "metadata": {},
   "source": [
    "# Data Science Tools and Ecosystem"
   ]
  },
  {
   "cell_type": "markdown",
   "id": "9d38ee48-6687-4ff2-a816-95d3f7e39211",
   "metadata": {
    "tags": []
   },
   "source": [
    "##### In this notebook, Data Science Tools and Ecosystem are summarized."
   ]
  },
  {
   "cell_type": "markdown",
   "id": "e6c9d14e-618f-4285-b767-947a0155fe83",
   "metadata": {
    "tags": []
   },
   "source": [
    "##### Objectives:\n",
    "\n",
    "- __List popular languages for Data Science__\n",
    "- __List of some Data science tools__\n",
    "- __Evauationg arithmetic expressions__\n",
    "- __COnvertiong minutes into second__\n"
   ]
  },
  {
   "cell_type": "markdown",
   "id": "9ea8c3b9-1e21-4791-9903-03353da92d09",
   "metadata": {},
   "source": [
    "##### Some of the popular languages that Data Scientists use are:\n",
    "\n",
    "1. Python\n",
    "2. R\n",
    "3. C++"
   ]
  },
  {
   "cell_type": "markdown",
   "id": "62a9bd0c-b2e5-4a4d-80ea-10d5c04995e6",
   "metadata": {
    "tags": []
   },
   "source": [
    "##### Some of the commonly used libraries used by Data Scientists include:\n",
    "\n",
    "1. Scikit-learn\n",
    "2. Pandas\n",
    "3. Seaborn\n"
   ]
  },
  {
   "cell_type": "markdown",
   "id": "fe6d570f-a2e8-4cd6-9faf-9a658e8c262f",
   "metadata": {},
   "source": [
    "##### \n",
    "|Data Science Tools|\n",
    "|------------------|\n",
    "|Apache Spark      |\n",
    "|RStudio           |\n",
    "|TensorFlow        |\n",
    "\n"
   ]
  },
  {
   "cell_type": "markdown",
   "id": "a247b611-c832-495e-96b2-73a34e4b6cbd",
   "metadata": {},
   "source": [
    "### Below are a few examples of evaluating arithmetic expressions in Python"
   ]
  },
  {
   "cell_type": "markdown",
   "id": "0931d1a8-e624-41b5-bb35-8b96831b488b",
   "metadata": {},
   "source": [
    "##### This a simple arithmetic expression to mutiply then add integers"
   ]
  },
  {
   "cell_type": "code",
   "execution_count": 1,
   "id": "025bc478-43ed-4643-a859-b7c590ee8c79",
   "metadata": {
    "tags": []
   },
   "outputs": [
    {
     "data": {
      "text/plain": [
       "17"
      ]
     },
     "execution_count": 1,
     "metadata": {},
     "output_type": "execute_result"
    }
   ],
   "source": [
    "(3*4)+5"
   ]
  },
  {
   "cell_type": "markdown",
   "id": "80d1cd0c-063f-4263-af74-573650bc6ac4",
   "metadata": {},
   "source": [
    "##### This will convert 200 minutes to hours by diving by 60"
   ]
  },
  {
   "cell_type": "code",
   "execution_count": 3,
   "id": "429483f4-4ca0-4195-994b-545d5e3e0b98",
   "metadata": {
    "tags": []
   },
   "outputs": [
    {
     "data": {
      "text/plain": [
       "3.3333333333333335"
      ]
     },
     "execution_count": 3,
     "metadata": {},
     "output_type": "execute_result"
    }
   ],
   "source": [
    "minutes = 200\n",
    "hours = minutes/60\n",
    "hours"
   ]
  },
  {
   "cell_type": "markdown",
   "id": "1fc333af-0520-4679-aa37-0ce70332ffa3",
   "metadata": {
    "tags": []
   },
   "source": [
    "## Author"
   ]
  },
  {
   "cell_type": "markdown",
   "id": "a7890d69-44e5-40ad-87fa-4445fdcb865d",
   "metadata": {},
   "source": [
    "##### José Lubota"
   ]
  }
 ],
 "metadata": {
  "kernelspec": {
   "display_name": "Python 3 (ipykernel)",
   "language": "python",
   "name": "python3"
  },
  "language_info": {
   "codemirror_mode": {
    "name": "ipython",
    "version": 3
   },
   "file_extension": ".py",
   "mimetype": "text/x-python",
   "name": "python",
   "nbconvert_exporter": "python",
   "pygments_lexer": "ipython3",
   "version": "3.11.3"
  }
 },
 "nbformat": 4,
 "nbformat_minor": 5
}
